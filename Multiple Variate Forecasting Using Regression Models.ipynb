{
 "cells": [
  {
   "cell_type": "markdown",
   "metadata": {},
   "source": [
    "# Multiple Variate Forecasting Using Regression Models"
   ]
  },
  {
   "cell_type": "markdown",
   "metadata": {},
   "source": [
    "We have used two ways to predict multiple spare parts demands at the same time using regression models.\n",
    "\n",
    "1. Individual Models : Trained seperate model for each spare part on data related to itself.\n",
    "\n",
    "2. One Model for Everything : Trained one model for all the spare parts on complete data."
   ]
  },
  {
   "cell_type": "markdown",
   "metadata": {},
   "source": [
    "Importing some basic tools."
   ]
  },
  {
   "cell_type": "code",
   "execution_count": 3,
   "metadata": {},
   "outputs": [],
   "source": [
    "# Render our plots inline\n",
    "%matplotlib inline\n",
    "\n",
    "# basic imports\n",
    "import pandas as pd\n",
    "import numpy as np\n",
    "import matplotlib.pyplot as plt\n",
    "import warnings\n",
    "warnings.filterwarnings('ignore')\n",
    "import os\n",
    "os.chdir(\"C:/Users/shubham.gupta1/Downloads/hilti/input_data\") # change the path with your data directory"
   ]
  },
  {
   "cell_type": "markdown",
   "metadata": {},
   "source": [
    "# Aggregating the Data"
   ]
  },
  {
   "cell_type": "markdown",
   "metadata": {},
   "source": [
    "Steps that we followed for preparing the final_data.csv :\n",
    "\n",
    "1. Selected all task1 data from notifications.csv\n",
    "2. Grouped task1 data based on year, material and week and aggregated the no. of repairs from it.\n",
    "3. Added rows for all the missing weeks for every spare parts. So now we have one data row for each part, for each week starting from 1st week of 2015.\n",
    "4. Collected weather data with features like pressure, min temp, max temp, humidity and wind speed and grouped it weekwise.\n",
    "5. Collected holidays data and grouped it week wise.\n",
    "6. Did feature engineering and created new features with lag data for each spare part for past 4 weeks.\n",
    "7. Merged all these datasets into single dataframe to form week wise data for each and every spare part."
   ]
  },
  {
   "cell_type": "code",
   "execution_count": 4,
   "metadata": {},
   "outputs": [],
   "source": [
    "df_init = pd.read_csv('final_data.csv')"
   ]
  },
  {
   "cell_type": "code",
   "execution_count": 27,
   "metadata": {},
   "outputs": [
    {
     "data": {
      "text/html": [
       "<div>\n",
       "<style scoped>\n",
       "    .dataframe tbody tr th:only-of-type {\n",
       "        vertical-align: middle;\n",
       "    }\n",
       "\n",
       "    .dataframe tbody tr th {\n",
       "        vertical-align: top;\n",
       "    }\n",
       "\n",
       "    .dataframe thead th {\n",
       "        text-align: right;\n",
       "    }\n",
       "</style>\n",
       "<table border=\"1\" class=\"dataframe\">\n",
       "  <thead>\n",
       "    <tr style=\"text-align: right;\">\n",
       "      <th></th>\n",
       "      <th>spare</th>\n",
       "      <th>year</th>\n",
       "      <th>week</th>\n",
       "      <th>pressure</th>\n",
       "      <th>min_temp</th>\n",
       "      <th>wind_speed</th>\n",
       "      <th>max_temp</th>\n",
       "      <th>humidity</th>\n",
       "      <th>holidays</th>\n",
       "      <th>repairs</th>\n",
       "      <th>last_week_repairs</th>\n",
       "      <th>last_week_diff</th>\n",
       "      <th>last_minus_one_week_repairs</th>\n",
       "      <th>last_minus_one_week_diff</th>\n",
       "      <th>last_minus_two_week_repairs</th>\n",
       "      <th>last_minus_two_week_diff</th>\n",
       "      <th>last_minus_three_week_repairs</th>\n",
       "      <th>last_minus_three_week_diff</th>\n",
       "    </tr>\n",
       "  </thead>\n",
       "  <tbody>\n",
       "    <tr>\n",
       "      <th>0</th>\n",
       "      <td>74473</td>\n",
       "      <td>2015</td>\n",
       "      <td>1</td>\n",
       "      <td>1018.145</td>\n",
       "      <td>33.45</td>\n",
       "      <td>1.3375</td>\n",
       "      <td>38.99</td>\n",
       "      <td>0.91</td>\n",
       "      <td>1.0</td>\n",
       "      <td>1</td>\n",
       "      <td>NaN</td>\n",
       "      <td>NaN</td>\n",
       "      <td>NaN</td>\n",
       "      <td>NaN</td>\n",
       "      <td>NaN</td>\n",
       "      <td>NaN</td>\n",
       "      <td>NaN</td>\n",
       "      <td>NaN</td>\n",
       "    </tr>\n",
       "    <tr>\n",
       "      <th>1</th>\n",
       "      <td>74476</td>\n",
       "      <td>2015</td>\n",
       "      <td>1</td>\n",
       "      <td>1018.145</td>\n",
       "      <td>33.45</td>\n",
       "      <td>1.3375</td>\n",
       "      <td>38.99</td>\n",
       "      <td>0.91</td>\n",
       "      <td>1.0</td>\n",
       "      <td>1</td>\n",
       "      <td>NaN</td>\n",
       "      <td>NaN</td>\n",
       "      <td>NaN</td>\n",
       "      <td>NaN</td>\n",
       "      <td>NaN</td>\n",
       "      <td>NaN</td>\n",
       "      <td>NaN</td>\n",
       "      <td>NaN</td>\n",
       "    </tr>\n",
       "    <tr>\n",
       "      <th>2</th>\n",
       "      <td>74873</td>\n",
       "      <td>2015</td>\n",
       "      <td>1</td>\n",
       "      <td>1018.145</td>\n",
       "      <td>33.45</td>\n",
       "      <td>1.3375</td>\n",
       "      <td>38.99</td>\n",
       "      <td>0.91</td>\n",
       "      <td>1.0</td>\n",
       "      <td>1</td>\n",
       "      <td>NaN</td>\n",
       "      <td>NaN</td>\n",
       "      <td>NaN</td>\n",
       "      <td>NaN</td>\n",
       "      <td>NaN</td>\n",
       "      <td>NaN</td>\n",
       "      <td>NaN</td>\n",
       "      <td>NaN</td>\n",
       "    </tr>\n",
       "    <tr>\n",
       "      <th>3</th>\n",
       "      <td>206121</td>\n",
       "      <td>2015</td>\n",
       "      <td>1</td>\n",
       "      <td>1018.145</td>\n",
       "      <td>33.45</td>\n",
       "      <td>1.3375</td>\n",
       "      <td>38.99</td>\n",
       "      <td>0.91</td>\n",
       "      <td>1.0</td>\n",
       "      <td>1</td>\n",
       "      <td>NaN</td>\n",
       "      <td>NaN</td>\n",
       "      <td>NaN</td>\n",
       "      <td>NaN</td>\n",
       "      <td>NaN</td>\n",
       "      <td>NaN</td>\n",
       "      <td>NaN</td>\n",
       "      <td>NaN</td>\n",
       "    </tr>\n",
       "    <tr>\n",
       "      <th>4</th>\n",
       "      <td>206145</td>\n",
       "      <td>2015</td>\n",
       "      <td>1</td>\n",
       "      <td>1018.145</td>\n",
       "      <td>33.45</td>\n",
       "      <td>1.3375</td>\n",
       "      <td>38.99</td>\n",
       "      <td>0.91</td>\n",
       "      <td>1.0</td>\n",
       "      <td>1</td>\n",
       "      <td>NaN</td>\n",
       "      <td>NaN</td>\n",
       "      <td>NaN</td>\n",
       "      <td>NaN</td>\n",
       "      <td>NaN</td>\n",
       "      <td>NaN</td>\n",
       "      <td>NaN</td>\n",
       "      <td>NaN</td>\n",
       "    </tr>\n",
       "  </tbody>\n",
       "</table>\n",
       "</div>"
      ],
      "text/plain": [
       "    spare  year  week  pressure  min_temp  wind_speed  max_temp  humidity  \\\n",
       "0   74473  2015     1  1018.145     33.45      1.3375     38.99      0.91   \n",
       "1   74476  2015     1  1018.145     33.45      1.3375     38.99      0.91   \n",
       "2   74873  2015     1  1018.145     33.45      1.3375     38.99      0.91   \n",
       "3  206121  2015     1  1018.145     33.45      1.3375     38.99      0.91   \n",
       "4  206145  2015     1  1018.145     33.45      1.3375     38.99      0.91   \n",
       "\n",
       "   holidays  repairs  last_week_repairs  last_week_diff  \\\n",
       "0       1.0        1                NaN             NaN   \n",
       "1       1.0        1                NaN             NaN   \n",
       "2       1.0        1                NaN             NaN   \n",
       "3       1.0        1                NaN             NaN   \n",
       "4       1.0        1                NaN             NaN   \n",
       "\n",
       "   last_minus_one_week_repairs  last_minus_one_week_diff  \\\n",
       "0                          NaN                       NaN   \n",
       "1                          NaN                       NaN   \n",
       "2                          NaN                       NaN   \n",
       "3                          NaN                       NaN   \n",
       "4                          NaN                       NaN   \n",
       "\n",
       "   last_minus_two_week_repairs  last_minus_two_week_diff  \\\n",
       "0                          NaN                       NaN   \n",
       "1                          NaN                       NaN   \n",
       "2                          NaN                       NaN   \n",
       "3                          NaN                       NaN   \n",
       "4                          NaN                       NaN   \n",
       "\n",
       "   last_minus_three_week_repairs  last_minus_three_week_diff  \n",
       "0                            NaN                         NaN  \n",
       "1                            NaN                         NaN  \n",
       "2                            NaN                         NaN  \n",
       "3                            NaN                         NaN  \n",
       "4                            NaN                         NaN  "
      ]
     },
     "execution_count": 27,
     "metadata": {},
     "output_type": "execute_result"
    }
   ],
   "source": [
    "df_init[:5]"
   ]
  },
  {
   "cell_type": "code",
   "execution_count": 28,
   "metadata": {},
   "outputs": [
    {
     "name": "stdout",
     "output_type": "stream",
     "text": [
      "<class 'pandas.core.frame.DataFrame'>\n",
      "RangeIndex: 16185 entries, 0 to 16184\n",
      "Data columns (total 18 columns):\n",
      "spare                            16185 non-null int64\n",
      "year                             16185 non-null int64\n",
      "week                             16185 non-null int64\n",
      "pressure                         16185 non-null float64\n",
      "min_temp                         16185 non-null float64\n",
      "wind_speed                       16185 non-null float64\n",
      "max_temp                         16185 non-null float64\n",
      "humidity                         16185 non-null float64\n",
      "holidays                         16185 non-null float64\n",
      "repairs                          16185 non-null int64\n",
      "last_week_repairs                16102 non-null float64\n",
      "last_week_diff                   16019 non-null float64\n",
      "last_minus_one_week_repairs      16019 non-null float64\n",
      "last_minus_one_week_diff         15936 non-null float64\n",
      "last_minus_two_week_repairs      15936 non-null float64\n",
      "last_minus_two_week_diff         15853 non-null float64\n",
      "last_minus_three_week_repairs    15853 non-null float64\n",
      "last_minus_three_week_diff       15770 non-null float64\n",
      "dtypes: float64(14), int64(4)\n",
      "memory usage: 2.2 MB\n"
     ]
    }
   ],
   "source": [
    "df_init.info()"
   ]
  },
  {
   "cell_type": "markdown",
   "metadata": {},
   "source": [
    "# Accuracy Metrics"
   ]
  },
  {
   "cell_type": "markdown",
   "metadata": {},
   "source": [
    "We have used 3 metrics here.\n",
    "1. RMSE : It is the standard deviation of the residuals (prediction errors). Residuals are a measure of how far from the regression line data points are.\n",
    "\n",
    "2. Penalized RMSE : This is the custom rmse that we have used to penalize the negative errors.\n",
    "\n",
    "3. RMSLE : It is used for comparing results when we create sepearete models for each spare part. As RMSE depends on the range of the variable on which it is performed, it cannot be used to compare between two models, where target variable have significant difference in their ranges. But RMSLE is independent of the range of the target variable. It can be considered the approximate percentage error.\n",
    "\n",
    "Note : We cannot use MAPE here as our values have zero in it, and MAPE is not capable of dealing zeroes."
   ]
  },
  {
   "cell_type": "code",
   "execution_count": 84,
   "metadata": {},
   "outputs": [],
   "source": [
    "# Basic accuracy metrics function : Provides metrics like RMSE, RMSLE, MAE, EVS, R2_Score\n",
    "\n",
    "def accuracy_matrices(y_true, y_pred):\n",
    "    from sklearn.metrics import mean_squared_error\n",
    "    from sklearn.metrics import mean_squared_log_error\n",
    "    from sklearn.metrics import mean_absolute_error\n",
    "    from sklearn.metrics import explained_variance_score\n",
    "    from sklearn.metrics import r2_score\n",
    "    from math import sqrt\n",
    "    rmse = sqrt(mean_squared_error(y_true, y_pred))\n",
    "    rmsle = sqrt(mean_squared_log_error(y_true, y_pred))\n",
    "    mae = sqrt(mean_absolute_error(y_true, y_pred))\n",
    "    evs = explained_variance_score(y_true, y_pred)\n",
    "    R2_score = r2_score(y_true, y_pred)\n",
    "    return rmse\n",
    "\n",
    "\n",
    "# penalized rmse function\n",
    "\n",
    "def penalized_rmse(targets, predictions):\n",
    "    n = len(predictions)\n",
    "    underPredictionPenalize =10\n",
    "    overPredictionPenalize =1\n",
    "    error =0\n",
    "    under_predict = 0\n",
    "    over_predict = 0\n",
    "    for i in range(n):\n",
    "        predictedValue =predictions[i]\n",
    "        actualValue = targets[i]\n",
    "        if(predictedValue < actualValue):\n",
    "            under_predict += 1\n",
    "            error += (underPredictionPenalize*(actualValue - predictedValue))**2\n",
    "        elif(predictedValue >= actualValue):\n",
    "            over_predict += 1\n",
    "            error +=(overPredictionPenalize* (actualValue - predictedValue))**2\n",
    "    from sklearn.metrics import mean_squared_error\n",
    "    from math import sqrt\n",
    "    import numpy as np\n",
    "    return np.sqrt(error/n), under_predict, over_predict"
   ]
  },
  {
   "cell_type": "markdown",
   "metadata": {},
   "source": [
    "# 1.1 Building Individual Models"
   ]
  },
  {
   "cell_type": "markdown",
   "metadata": {},
   "source": [
    "Initially, we trained various models like Linear Regression, SVM, Random Forest, etc. And we got promising results with LightGBM. We have used this model before in various kaggle competitions and have seen that it's very common to have the best results with this type of model, which is an ensemble of trees like a Random Forest, but the method that it uses to create and combine the trees is different."
   ]
  },
  {
   "cell_type": "markdown",
   "metadata": {},
   "source": [
    "There are many parameters we can tune for this model but we have simply put 600 trees with default values for all other parameters. We will try to improve the predictions using Hyperparameter tunning if time permits."
   ]
  },
  {
   "cell_type": "markdown",
   "metadata": {},
   "source": [
    "Here we have trained 83 lightGBM models for 83 different spare parts seperatly in a loop."
   ]
  },
  {
   "cell_type": "code",
   "execution_count": 24,
   "metadata": {},
   "outputs": [],
   "source": [
    "df1 = df_init.copy()"
   ]
  },
  {
   "cell_type": "code",
   "execution_count": 4,
   "metadata": {},
   "outputs": [
    {
     "data": {
      "text/html": [
       "<div>\n",
       "<style scoped>\n",
       "    .dataframe tbody tr th:only-of-type {\n",
       "        vertical-align: middle;\n",
       "    }\n",
       "\n",
       "    .dataframe tbody tr th {\n",
       "        vertical-align: top;\n",
       "    }\n",
       "\n",
       "    .dataframe thead th {\n",
       "        text-align: right;\n",
       "    }\n",
       "</style>\n",
       "<table border=\"1\" class=\"dataframe\">\n",
       "  <thead>\n",
       "    <tr style=\"text-align: right;\">\n",
       "      <th></th>\n",
       "      <th>spare</th>\n",
       "      <th>year</th>\n",
       "      <th>week</th>\n",
       "      <th>pressure</th>\n",
       "      <th>min_temp</th>\n",
       "      <th>wind_speed</th>\n",
       "      <th>max_temp</th>\n",
       "      <th>humidity</th>\n",
       "      <th>holidays</th>\n",
       "      <th>repairs</th>\n",
       "      <th>last_week_repairs</th>\n",
       "      <th>last_week_diff</th>\n",
       "      <th>last_minus_one_week_repairs</th>\n",
       "      <th>last_minus_one_week_diff</th>\n",
       "      <th>last_minus_two_week_repairs</th>\n",
       "      <th>last_minus_two_week_diff</th>\n",
       "      <th>last_minus_three_week_repairs</th>\n",
       "      <th>last_minus_three_week_diff</th>\n",
       "    </tr>\n",
       "  </thead>\n",
       "  <tbody>\n",
       "    <tr>\n",
       "      <th>0</th>\n",
       "      <td>74473</td>\n",
       "      <td>2015</td>\n",
       "      <td>1</td>\n",
       "      <td>1018.145</td>\n",
       "      <td>33.45</td>\n",
       "      <td>1.3375</td>\n",
       "      <td>38.99</td>\n",
       "      <td>0.91</td>\n",
       "      <td>1.0</td>\n",
       "      <td>1</td>\n",
       "      <td>NaN</td>\n",
       "      <td>NaN</td>\n",
       "      <td>NaN</td>\n",
       "      <td>NaN</td>\n",
       "      <td>NaN</td>\n",
       "      <td>NaN</td>\n",
       "      <td>NaN</td>\n",
       "      <td>NaN</td>\n",
       "    </tr>\n",
       "    <tr>\n",
       "      <th>1</th>\n",
       "      <td>74476</td>\n",
       "      <td>2015</td>\n",
       "      <td>1</td>\n",
       "      <td>1018.145</td>\n",
       "      <td>33.45</td>\n",
       "      <td>1.3375</td>\n",
       "      <td>38.99</td>\n",
       "      <td>0.91</td>\n",
       "      <td>1.0</td>\n",
       "      <td>1</td>\n",
       "      <td>NaN</td>\n",
       "      <td>NaN</td>\n",
       "      <td>NaN</td>\n",
       "      <td>NaN</td>\n",
       "      <td>NaN</td>\n",
       "      <td>NaN</td>\n",
       "      <td>NaN</td>\n",
       "      <td>NaN</td>\n",
       "    </tr>\n",
       "    <tr>\n",
       "      <th>2</th>\n",
       "      <td>74873</td>\n",
       "      <td>2015</td>\n",
       "      <td>1</td>\n",
       "      <td>1018.145</td>\n",
       "      <td>33.45</td>\n",
       "      <td>1.3375</td>\n",
       "      <td>38.99</td>\n",
       "      <td>0.91</td>\n",
       "      <td>1.0</td>\n",
       "      <td>1</td>\n",
       "      <td>NaN</td>\n",
       "      <td>NaN</td>\n",
       "      <td>NaN</td>\n",
       "      <td>NaN</td>\n",
       "      <td>NaN</td>\n",
       "      <td>NaN</td>\n",
       "      <td>NaN</td>\n",
       "      <td>NaN</td>\n",
       "    </tr>\n",
       "    <tr>\n",
       "      <th>3</th>\n",
       "      <td>206121</td>\n",
       "      <td>2015</td>\n",
       "      <td>1</td>\n",
       "      <td>1018.145</td>\n",
       "      <td>33.45</td>\n",
       "      <td>1.3375</td>\n",
       "      <td>38.99</td>\n",
       "      <td>0.91</td>\n",
       "      <td>1.0</td>\n",
       "      <td>1</td>\n",
       "      <td>NaN</td>\n",
       "      <td>NaN</td>\n",
       "      <td>NaN</td>\n",
       "      <td>NaN</td>\n",
       "      <td>NaN</td>\n",
       "      <td>NaN</td>\n",
       "      <td>NaN</td>\n",
       "      <td>NaN</td>\n",
       "    </tr>\n",
       "    <tr>\n",
       "      <th>4</th>\n",
       "      <td>206145</td>\n",
       "      <td>2015</td>\n",
       "      <td>1</td>\n",
       "      <td>1018.145</td>\n",
       "      <td>33.45</td>\n",
       "      <td>1.3375</td>\n",
       "      <td>38.99</td>\n",
       "      <td>0.91</td>\n",
       "      <td>1.0</td>\n",
       "      <td>1</td>\n",
       "      <td>NaN</td>\n",
       "      <td>NaN</td>\n",
       "      <td>NaN</td>\n",
       "      <td>NaN</td>\n",
       "      <td>NaN</td>\n",
       "      <td>NaN</td>\n",
       "      <td>NaN</td>\n",
       "      <td>NaN</td>\n",
       "    </tr>\n",
       "  </tbody>\n",
       "</table>\n",
       "</div>"
      ],
      "text/plain": [
       "    spare  year  week  pressure  min_temp  wind_speed  max_temp  humidity  \\\n",
       "0   74473  2015     1  1018.145     33.45      1.3375     38.99      0.91   \n",
       "1   74476  2015     1  1018.145     33.45      1.3375     38.99      0.91   \n",
       "2   74873  2015     1  1018.145     33.45      1.3375     38.99      0.91   \n",
       "3  206121  2015     1  1018.145     33.45      1.3375     38.99      0.91   \n",
       "4  206145  2015     1  1018.145     33.45      1.3375     38.99      0.91   \n",
       "\n",
       "   holidays  repairs  last_week_repairs  last_week_diff  \\\n",
       "0       1.0        1                NaN             NaN   \n",
       "1       1.0        1                NaN             NaN   \n",
       "2       1.0        1                NaN             NaN   \n",
       "3       1.0        1                NaN             NaN   \n",
       "4       1.0        1                NaN             NaN   \n",
       "\n",
       "   last_minus_one_week_repairs  last_minus_one_week_diff  \\\n",
       "0                          NaN                       NaN   \n",
       "1                          NaN                       NaN   \n",
       "2                          NaN                       NaN   \n",
       "3                          NaN                       NaN   \n",
       "4                          NaN                       NaN   \n",
       "\n",
       "   last_minus_two_week_repairs  last_minus_two_week_diff  \\\n",
       "0                          NaN                       NaN   \n",
       "1                          NaN                       NaN   \n",
       "2                          NaN                       NaN   \n",
       "3                          NaN                       NaN   \n",
       "4                          NaN                       NaN   \n",
       "\n",
       "   last_minus_three_week_repairs  last_minus_three_week_diff  \n",
       "0                            NaN                         NaN  \n",
       "1                            NaN                         NaN  \n",
       "2                            NaN                         NaN  \n",
       "3                            NaN                         NaN  \n",
       "4                            NaN                         NaN  "
      ]
     },
     "execution_count": 4,
     "metadata": {},
     "output_type": "execute_result"
    }
   ],
   "source": [
    "df1[:5]"
   ]
  },
  {
   "cell_type": "code",
   "execution_count": 82,
   "metadata": {},
   "outputs": [
    {
     "data": {
      "text/html": [
       "<div>\n",
       "<style scoped>\n",
       "    .dataframe tbody tr th:only-of-type {\n",
       "        vertical-align: middle;\n",
       "    }\n",
       "\n",
       "    .dataframe tbody tr th {\n",
       "        vertical-align: top;\n",
       "    }\n",
       "\n",
       "    .dataframe thead th {\n",
       "        text-align: right;\n",
       "    }\n",
       "</style>\n",
       "<table border=\"1\" class=\"dataframe\">\n",
       "  <thead>\n",
       "    <tr style=\"text-align: right;\">\n",
       "      <th></th>\n",
       "      <th>spare</th>\n",
       "      <th>year</th>\n",
       "      <th>week</th>\n",
       "      <th>pressure</th>\n",
       "      <th>min_temp</th>\n",
       "      <th>wind_speed</th>\n",
       "      <th>max_temp</th>\n",
       "      <th>humidity</th>\n",
       "      <th>holidays</th>\n",
       "      <th>repairs</th>\n",
       "      <th>last_week_repairs</th>\n",
       "      <th>last_week_diff</th>\n",
       "      <th>last_minus_one_week_repairs</th>\n",
       "      <th>last_minus_one_week_diff</th>\n",
       "      <th>last_minus_two_week_repairs</th>\n",
       "      <th>last_minus_two_week_diff</th>\n",
       "      <th>last_minus_three_week_repairs</th>\n",
       "      <th>last_minus_three_week_diff</th>\n",
       "    </tr>\n",
       "  </thead>\n",
       "  <tbody>\n",
       "    <tr>\n",
       "      <th>0</th>\n",
       "      <td>74473</td>\n",
       "      <td>2015</td>\n",
       "      <td>1</td>\n",
       "      <td>1018.145000</td>\n",
       "      <td>33.45</td>\n",
       "      <td>1.337500</td>\n",
       "      <td>38.99</td>\n",
       "      <td>0.910000</td>\n",
       "      <td>1.0</td>\n",
       "      <td>1</td>\n",
       "      <td>NaN</td>\n",
       "      <td>NaN</td>\n",
       "      <td>NaN</td>\n",
       "      <td>NaN</td>\n",
       "      <td>NaN</td>\n",
       "      <td>NaN</td>\n",
       "      <td>NaN</td>\n",
       "      <td>NaN</td>\n",
       "    </tr>\n",
       "    <tr>\n",
       "      <th>83</th>\n",
       "      <td>74473</td>\n",
       "      <td>2015</td>\n",
       "      <td>2</td>\n",
       "      <td>1018.425714</td>\n",
       "      <td>28.70</td>\n",
       "      <td>1.507143</td>\n",
       "      <td>57.16</td>\n",
       "      <td>0.871429</td>\n",
       "      <td>1.0</td>\n",
       "      <td>19</td>\n",
       "      <td>1.0</td>\n",
       "      <td>NaN</td>\n",
       "      <td>NaN</td>\n",
       "      <td>NaN</td>\n",
       "      <td>NaN</td>\n",
       "      <td>NaN</td>\n",
       "      <td>NaN</td>\n",
       "      <td>NaN</td>\n",
       "    </tr>\n",
       "    <tr>\n",
       "      <th>166</th>\n",
       "      <td>74473</td>\n",
       "      <td>2015</td>\n",
       "      <td>3</td>\n",
       "      <td>1018.728571</td>\n",
       "      <td>28.83</td>\n",
       "      <td>2.422857</td>\n",
       "      <td>51.07</td>\n",
       "      <td>0.837143</td>\n",
       "      <td>0.0</td>\n",
       "      <td>23</td>\n",
       "      <td>19.0</td>\n",
       "      <td>18.0</td>\n",
       "      <td>1.0</td>\n",
       "      <td>NaN</td>\n",
       "      <td>NaN</td>\n",
       "      <td>NaN</td>\n",
       "      <td>NaN</td>\n",
       "      <td>NaN</td>\n",
       "    </tr>\n",
       "    <tr>\n",
       "      <th>249</th>\n",
       "      <td>74473</td>\n",
       "      <td>2015</td>\n",
       "      <td>4</td>\n",
       "      <td>1018.937143</td>\n",
       "      <td>22.84</td>\n",
       "      <td>0.938571</td>\n",
       "      <td>36.71</td>\n",
       "      <td>0.880000</td>\n",
       "      <td>0.0</td>\n",
       "      <td>29</td>\n",
       "      <td>23.0</td>\n",
       "      <td>4.0</td>\n",
       "      <td>19.0</td>\n",
       "      <td>18.0</td>\n",
       "      <td>1.0</td>\n",
       "      <td>NaN</td>\n",
       "      <td>NaN</td>\n",
       "      <td>NaN</td>\n",
       "    </tr>\n",
       "    <tr>\n",
       "      <th>332</th>\n",
       "      <td>74473</td>\n",
       "      <td>2015</td>\n",
       "      <td>5</td>\n",
       "      <td>1019.007143</td>\n",
       "      <td>29.19</td>\n",
       "      <td>1.504286</td>\n",
       "      <td>39.17</td>\n",
       "      <td>0.901429</td>\n",
       "      <td>0.0</td>\n",
       "      <td>22</td>\n",
       "      <td>29.0</td>\n",
       "      <td>6.0</td>\n",
       "      <td>23.0</td>\n",
       "      <td>4.0</td>\n",
       "      <td>19.0</td>\n",
       "      <td>18.0</td>\n",
       "      <td>1.0</td>\n",
       "      <td>NaN</td>\n",
       "    </tr>\n",
       "  </tbody>\n",
       "</table>\n",
       "</div>"
      ],
      "text/plain": [
       "     spare  year  week     pressure  min_temp  wind_speed  max_temp  humidity  \\\n",
       "0    74473  2015     1  1018.145000     33.45    1.337500     38.99  0.910000   \n",
       "83   74473  2015     2  1018.425714     28.70    1.507143     57.16  0.871429   \n",
       "166  74473  2015     3  1018.728571     28.83    2.422857     51.07  0.837143   \n",
       "249  74473  2015     4  1018.937143     22.84    0.938571     36.71  0.880000   \n",
       "332  74473  2015     5  1019.007143     29.19    1.504286     39.17  0.901429   \n",
       "\n",
       "     holidays  repairs  last_week_repairs  last_week_diff  \\\n",
       "0         1.0        1                NaN             NaN   \n",
       "83        1.0       19                1.0             NaN   \n",
       "166       0.0       23               19.0            18.0   \n",
       "249       0.0       29               23.0             4.0   \n",
       "332       0.0       22               29.0             6.0   \n",
       "\n",
       "     last_minus_one_week_repairs  last_minus_one_week_diff  \\\n",
       "0                            NaN                       NaN   \n",
       "83                           NaN                       NaN   \n",
       "166                          1.0                       NaN   \n",
       "249                         19.0                      18.0   \n",
       "332                         23.0                       4.0   \n",
       "\n",
       "     last_minus_two_week_repairs  last_minus_two_week_diff  \\\n",
       "0                            NaN                       NaN   \n",
       "83                           NaN                       NaN   \n",
       "166                          NaN                       NaN   \n",
       "249                          1.0                       NaN   \n",
       "332                         19.0                      18.0   \n",
       "\n",
       "     last_minus_three_week_repairs  last_minus_three_week_diff  \n",
       "0                              NaN                         NaN  \n",
       "83                             NaN                         NaN  \n",
       "166                            NaN                         NaN  \n",
       "249                            NaN                         NaN  \n",
       "332                            1.0                         NaN  "
      ]
     },
     "execution_count": 82,
     "metadata": {},
     "output_type": "execute_result"
    }
   ],
   "source": [
    "# Grouping data spare wise\n",
    "spare_groups = df1.groupby(['spare'])\n",
    "spare_groups.get_group(74473)[:5]"
   ]
  },
  {
   "cell_type": "code",
   "execution_count": 65,
   "metadata": {},
   "outputs": [],
   "source": [
    "all_pred = pd.DataFrame([[0,123,321, 11],[0,1543,432, 11]], columns=['spare','week', 'repairs', 'y_pred'])"
   ]
  },
  {
   "cell_type": "code",
   "execution_count": 66,
   "metadata": {},
   "outputs": [
    {
     "name": "stdout",
     "output_type": "stream",
     "text": [
      "<class 'pandas.core.frame.DataFrame'>\n",
      "RangeIndex: 2 entries, 0 to 1\n",
      "Data columns (total 4 columns):\n",
      "spare      2 non-null int64\n",
      "week       2 non-null int64\n",
      "repairs    2 non-null int64\n",
      "y_pred     2 non-null int64\n",
      "dtypes: int64(4)\n",
      "memory usage: 144.0 bytes\n"
     ]
    }
   ],
   "source": [
    "all_pred.info()"
   ]
  },
  {
   "cell_type": "code",
   "execution_count": 86,
   "metadata": {},
   "outputs": [
    {
     "ename": "ValueError",
     "evalue": "Input contains NaN, infinity or a value too large for dtype('float64').",
     "output_type": "error",
     "traceback": [
      "\u001b[1;31m---------------------------------------------------------------------------\u001b[0m",
      "\u001b[1;31mValueError\u001b[0m                                Traceback (most recent call last)",
      "\u001b[1;32m<ipython-input-86-09c74708b67c>\u001b[0m in \u001b[0;36m<module>\u001b[1;34m()\u001b[0m\n\u001b[0;32m     53\u001b[0m \u001b[1;33m\u001b[0m\u001b[0m\n\u001b[0;32m     54\u001b[0m     \u001b[1;31m# Calculating Accuracy Metrics\u001b[0m\u001b[1;33m\u001b[0m\u001b[1;33m\u001b[0m\u001b[0m\n\u001b[1;32m---> 55\u001b[1;33m     \u001b[0mrmse\u001b[0m \u001b[1;33m=\u001b[0m \u001b[0maccuracy_matrices\u001b[0m\u001b[1;33m(\u001b[0m\u001b[0mtest_y\u001b[0m\u001b[1;33m,\u001b[0m \u001b[0my_pred_lgbm\u001b[0m\u001b[1;33m)\u001b[0m\u001b[1;33m\u001b[0m\u001b[0m\n\u001b[0m\u001b[0;32m     56\u001b[0m \u001b[1;33m\u001b[0m\u001b[0m\n\u001b[0;32m     57\u001b[0m     \u001b[1;31m# Calculating Penalized RMSE\u001b[0m\u001b[1;33m\u001b[0m\u001b[1;33m\u001b[0m\u001b[0m\n",
      "\u001b[1;32m<ipython-input-84-fc417d5e8c62>\u001b[0m in \u001b[0;36maccuracy_matrices\u001b[1;34m(y_true, y_pred)\u001b[0m\n\u001b[0;32m      9\u001b[0m     \u001b[1;32mfrom\u001b[0m \u001b[0mmath\u001b[0m \u001b[1;32mimport\u001b[0m \u001b[0msqrt\u001b[0m\u001b[1;33m\u001b[0m\u001b[0m\n\u001b[0;32m     10\u001b[0m     \u001b[0mrmse\u001b[0m \u001b[1;33m=\u001b[0m \u001b[0msqrt\u001b[0m\u001b[1;33m(\u001b[0m\u001b[0mmean_squared_error\u001b[0m\u001b[1;33m(\u001b[0m\u001b[0my_true\u001b[0m\u001b[1;33m,\u001b[0m \u001b[0my_pred\u001b[0m\u001b[1;33m)\u001b[0m\u001b[1;33m)\u001b[0m\u001b[1;33m\u001b[0m\u001b[0m\n\u001b[1;32m---> 11\u001b[1;33m     \u001b[0mrmsle\u001b[0m \u001b[1;33m=\u001b[0m \u001b[0msqrt\u001b[0m\u001b[1;33m(\u001b[0m\u001b[0mmean_squared_log_error\u001b[0m\u001b[1;33m(\u001b[0m\u001b[0my_true\u001b[0m\u001b[1;33m,\u001b[0m \u001b[0my_pred\u001b[0m\u001b[1;33m)\u001b[0m\u001b[1;33m)\u001b[0m\u001b[1;33m\u001b[0m\u001b[0m\n\u001b[0m\u001b[0;32m     12\u001b[0m     \u001b[0mmae\u001b[0m \u001b[1;33m=\u001b[0m \u001b[0msqrt\u001b[0m\u001b[1;33m(\u001b[0m\u001b[0mmean_absolute_error\u001b[0m\u001b[1;33m(\u001b[0m\u001b[0my_true\u001b[0m\u001b[1;33m,\u001b[0m \u001b[0my_pred\u001b[0m\u001b[1;33m)\u001b[0m\u001b[1;33m)\u001b[0m\u001b[1;33m\u001b[0m\u001b[0m\n\u001b[0;32m     13\u001b[0m     \u001b[0mevs\u001b[0m \u001b[1;33m=\u001b[0m \u001b[0mexplained_variance_score\u001b[0m\u001b[1;33m(\u001b[0m\u001b[0my_true\u001b[0m\u001b[1;33m,\u001b[0m \u001b[0my_pred\u001b[0m\u001b[1;33m)\u001b[0m\u001b[1;33m\u001b[0m\u001b[0m\n",
      "\u001b[1;32mC:\\ProgramData\\Anaconda3\\lib\\site-packages\\sklearn\\metrics\\regression.py\u001b[0m in \u001b[0;36mmean_squared_log_error\u001b[1;34m(y_true, y_pred, sample_weight, multioutput)\u001b[0m\n\u001b[0;32m    313\u001b[0m \u001b[1;33m\u001b[0m\u001b[0m\n\u001b[0;32m    314\u001b[0m     return mean_squared_error(np.log(y_true + 1), np.log(y_pred + 1),\n\u001b[1;32m--> 315\u001b[1;33m                               sample_weight, multioutput)\n\u001b[0m\u001b[0;32m    316\u001b[0m \u001b[1;33m\u001b[0m\u001b[0m\n\u001b[0;32m    317\u001b[0m \u001b[1;33m\u001b[0m\u001b[0m\n",
      "\u001b[1;32mC:\\ProgramData\\Anaconda3\\lib\\site-packages\\sklearn\\metrics\\regression.py\u001b[0m in \u001b[0;36mmean_squared_error\u001b[1;34m(y_true, y_pred, sample_weight, multioutput)\u001b[0m\n\u001b[0;32m    236\u001b[0m     \"\"\"\n\u001b[0;32m    237\u001b[0m     y_type, y_true, y_pred, multioutput = _check_reg_targets(\n\u001b[1;32m--> 238\u001b[1;33m         y_true, y_pred, multioutput)\n\u001b[0m\u001b[0;32m    239\u001b[0m     output_errors = np.average((y_true - y_pred) ** 2, axis=0,\n\u001b[0;32m    240\u001b[0m                                weights=sample_weight)\n",
      "\u001b[1;32mC:\\ProgramData\\Anaconda3\\lib\\site-packages\\sklearn\\metrics\\regression.py\u001b[0m in \u001b[0;36m_check_reg_targets\u001b[1;34m(y_true, y_pred, multioutput)\u001b[0m\n\u001b[0;32m     75\u001b[0m     \u001b[0mcheck_consistent_length\u001b[0m\u001b[1;33m(\u001b[0m\u001b[0my_true\u001b[0m\u001b[1;33m,\u001b[0m \u001b[0my_pred\u001b[0m\u001b[1;33m)\u001b[0m\u001b[1;33m\u001b[0m\u001b[0m\n\u001b[0;32m     76\u001b[0m     \u001b[0my_true\u001b[0m \u001b[1;33m=\u001b[0m \u001b[0mcheck_array\u001b[0m\u001b[1;33m(\u001b[0m\u001b[0my_true\u001b[0m\u001b[1;33m,\u001b[0m \u001b[0mensure_2d\u001b[0m\u001b[1;33m=\u001b[0m\u001b[1;32mFalse\u001b[0m\u001b[1;33m)\u001b[0m\u001b[1;33m\u001b[0m\u001b[0m\n\u001b[1;32m---> 77\u001b[1;33m     \u001b[0my_pred\u001b[0m \u001b[1;33m=\u001b[0m \u001b[0mcheck_array\u001b[0m\u001b[1;33m(\u001b[0m\u001b[0my_pred\u001b[0m\u001b[1;33m,\u001b[0m \u001b[0mensure_2d\u001b[0m\u001b[1;33m=\u001b[0m\u001b[1;32mFalse\u001b[0m\u001b[1;33m)\u001b[0m\u001b[1;33m\u001b[0m\u001b[0m\n\u001b[0m\u001b[0;32m     78\u001b[0m \u001b[1;33m\u001b[0m\u001b[0m\n\u001b[0;32m     79\u001b[0m     \u001b[1;32mif\u001b[0m \u001b[0my_true\u001b[0m\u001b[1;33m.\u001b[0m\u001b[0mndim\u001b[0m \u001b[1;33m==\u001b[0m \u001b[1;36m1\u001b[0m\u001b[1;33m:\u001b[0m\u001b[1;33m\u001b[0m\u001b[0m\n",
      "\u001b[1;32mC:\\ProgramData\\Anaconda3\\lib\\site-packages\\sklearn\\utils\\validation.py\u001b[0m in \u001b[0;36mcheck_array\u001b[1;34m(array, accept_sparse, dtype, order, copy, force_all_finite, ensure_2d, allow_nd, ensure_min_samples, ensure_min_features, warn_on_dtype, estimator)\u001b[0m\n\u001b[0;32m    451\u001b[0m                              % (array.ndim, estimator_name))\n\u001b[0;32m    452\u001b[0m         \u001b[1;32mif\u001b[0m \u001b[0mforce_all_finite\u001b[0m\u001b[1;33m:\u001b[0m\u001b[1;33m\u001b[0m\u001b[0m\n\u001b[1;32m--> 453\u001b[1;33m             \u001b[0m_assert_all_finite\u001b[0m\u001b[1;33m(\u001b[0m\u001b[0marray\u001b[0m\u001b[1;33m)\u001b[0m\u001b[1;33m\u001b[0m\u001b[0m\n\u001b[0m\u001b[0;32m    454\u001b[0m \u001b[1;33m\u001b[0m\u001b[0m\n\u001b[0;32m    455\u001b[0m     \u001b[0mshape_repr\u001b[0m \u001b[1;33m=\u001b[0m \u001b[0m_shape_repr\u001b[0m\u001b[1;33m(\u001b[0m\u001b[0marray\u001b[0m\u001b[1;33m.\u001b[0m\u001b[0mshape\u001b[0m\u001b[1;33m)\u001b[0m\u001b[1;33m\u001b[0m\u001b[0m\n",
      "\u001b[1;32mC:\\ProgramData\\Anaconda3\\lib\\site-packages\\sklearn\\utils\\validation.py\u001b[0m in \u001b[0;36m_assert_all_finite\u001b[1;34m(X)\u001b[0m\n\u001b[0;32m     42\u001b[0m             and not np.isfinite(X).all()):\n\u001b[0;32m     43\u001b[0m         raise ValueError(\"Input contains NaN, infinity\"\n\u001b[1;32m---> 44\u001b[1;33m                          \" or a value too large for %r.\" % X.dtype)\n\u001b[0m\u001b[0;32m     45\u001b[0m \u001b[1;33m\u001b[0m\u001b[0m\n\u001b[0;32m     46\u001b[0m \u001b[1;33m\u001b[0m\u001b[0m\n",
      "\u001b[1;31mValueError\u001b[0m: Input contains NaN, infinity or a value too large for dtype('float64')."
     ]
    }
   ],
   "source": [
    "#test dfs from week 25 to week 36 of 2018 (12 weeks). \n",
    "\n",
    "import lightgbm as lgb\n",
    "results = []\n",
    "fi = []\n",
    "spares = df1.spare.unique()\n",
    "# result_col = ['Spare Id','Mean (repairs/week)', 'Min (repairs/week)', 'Max (repairs/week)', 'Rmse','Penalized_Rmse',\n",
    "#               'Total weeks', 'Under_Predict Weeks', 'Over_Predict Weeks', 'RMSLE', 'MAE', 'Explained Variance', 'R2 Score']\n",
    "result_col = ['Spare ID', 'Rmse']\n",
    "for spare in list(spares):\n",
    "    \n",
    "    # Creating dataframe of an individual spare\n",
    "    df_spare = spare_groups.get_group(spare)\n",
    "    \n",
    "    # Mean, Min and Max of number of repairs\n",
    "    mean = df_spare['repairs'].mean()\n",
    "    min_spare = df_spare['repairs'].min()\n",
    "    max_spare = df_spare['repairs'].max()\n",
    "    \n",
    "    # Test Data Frame consists 12 weeks of data from week 25th to 36th of 2018.\n",
    "    # Not including week 37 as it has incomplete data.\n",
    "    test_df = df_spare[-12:]\n",
    "    \n",
    "    # Train Data Frame consists of data from 6th week of 2015 to 24th week of 2018.\n",
    "    # Initial 5 weeks of data was not used as its has null values for 4 week lag data columns.\n",
    "    train_df = df_spare[6:-12]\n",
    "    \n",
    "    x_col = list(set(list(train_df)) - set(['spare', 'repairs']))     # x_col : Features\n",
    "    \n",
    "    y_col = ['repairs'] # y_col : Target Variable\n",
    "    \n",
    "    train_x = train_df[x_col]\n",
    "    train_y = train_df[y_col]\n",
    "    test_x = test_df[x_col]\n",
    "    test_y = test_df[y_col]\n",
    "    \n",
    "    # Converting dataframe to lightGBM library dataset.\n",
    "    d_train = lgb.Dataset(train_x, label=train_y)\n",
    "    \n",
    "    # setting basic parameters\n",
    "    params = { \"objective\": \"regression\", \"metric\": \"rmse\"}\n",
    "    \n",
    "    # Training the model\n",
    "    lgbmodel = lgb.train(params, d_train, 600)\n",
    "    \n",
    "    # Predicting for test df\n",
    "    y_pred_lgbm=lgbmodel.predict(test_x)\n",
    "    \n",
    "#     temp_df = test_df.copy()\n",
    "#     temp_df['y_pred'] = y_pred_lgbm\n",
    "#     temp_df = temp_df[['spare','week', 'repairs', 'y_pred']]\n",
    "#     all_pred = pd.concat([all_pred, temp_df], ignore_index=True)\n",
    "    \n",
    "    # Calculating Accuracy Metrics\n",
    "    rmse = accuracy_matrices(test_y, y_pred_lgbm)\n",
    "    \n",
    "    # Calculating Penalized RMSE\n",
    "#     penaliz_rmse, under_predict, over_predict = penalized_rmse(test_y.squeeze().tolist(), y_pred_lgbm.squeeze().tolist())\n",
    "    \n",
    "    # Saving the metric outcomes.\n",
    "    results.append([spare, rmse])\n",
    "    \n",
    "    # Saving the feature importance values\n",
    "#     fi.append(list(lgbmodel.feature_importance()))\n",
    "\n",
    "result_df = pd.DataFrame(results, columns=result_col)\n",
    "# feat_imp = pd.DataFrame(fi,columns = list(set(list(df1)) - set(['spare', 'repairs'])) )"
   ]
  },
  {
   "cell_type": "code",
   "execution_count": 68,
   "metadata": {
    "scrolled": true
   },
   "outputs": [
    {
     "name": "stdout",
     "output_type": "stream",
     "text": [
      "<class 'pandas.core.frame.DataFrame'>\n",
      "RangeIndex: 996 entries, 2 to 997\n",
      "Data columns (total 4 columns):\n",
      "spare      996 non-null int64\n",
      "week       996 non-null int64\n",
      "repairs    996 non-null int64\n",
      "y_pred     996 non-null float64\n",
      "dtypes: float64(1), int64(3)\n",
      "memory usage: 31.2 KB\n"
     ]
    }
   ],
   "source": [
    "all_pred = all_pred[2:]\n",
    "all_pred.info()"
   ]
  },
  {
   "cell_type": "code",
   "execution_count": 70,
   "metadata": {},
   "outputs": [
    {
     "data": {
      "text/html": [
       "<div>\n",
       "<style scoped>\n",
       "    .dataframe tbody tr th:only-of-type {\n",
       "        vertical-align: middle;\n",
       "    }\n",
       "\n",
       "    .dataframe tbody tr th {\n",
       "        vertical-align: top;\n",
       "    }\n",
       "\n",
       "    .dataframe thead th {\n",
       "        text-align: right;\n",
       "    }\n",
       "</style>\n",
       "<table border=\"1\" class=\"dataframe\">\n",
       "  <thead>\n",
       "    <tr style=\"text-align: right;\">\n",
       "      <th></th>\n",
       "      <th>spare</th>\n",
       "      <th>week</th>\n",
       "      <th>repairs</th>\n",
       "      <th>y_pred</th>\n",
       "    </tr>\n",
       "  </thead>\n",
       "  <tbody>\n",
       "    <tr>\n",
       "      <th>2</th>\n",
       "      <td>74473</td>\n",
       "      <td>26</td>\n",
       "      <td>31</td>\n",
       "      <td>31.365737</td>\n",
       "    </tr>\n",
       "    <tr>\n",
       "      <th>3</th>\n",
       "      <td>74473</td>\n",
       "      <td>27</td>\n",
       "      <td>30</td>\n",
       "      <td>29.657391</td>\n",
       "    </tr>\n",
       "    <tr>\n",
       "      <th>4</th>\n",
       "      <td>74473</td>\n",
       "      <td>28</td>\n",
       "      <td>34</td>\n",
       "      <td>31.404603</td>\n",
       "    </tr>\n",
       "    <tr>\n",
       "      <th>5</th>\n",
       "      <td>74473</td>\n",
       "      <td>29</td>\n",
       "      <td>43</td>\n",
       "      <td>32.090226</td>\n",
       "    </tr>\n",
       "    <tr>\n",
       "      <th>6</th>\n",
       "      <td>74473</td>\n",
       "      <td>30</td>\n",
       "      <td>35</td>\n",
       "      <td>32.383071</td>\n",
       "    </tr>\n",
       "    <tr>\n",
       "      <th>7</th>\n",
       "      <td>74473</td>\n",
       "      <td>31</td>\n",
       "      <td>38</td>\n",
       "      <td>28.259873</td>\n",
       "    </tr>\n",
       "    <tr>\n",
       "      <th>8</th>\n",
       "      <td>74473</td>\n",
       "      <td>32</td>\n",
       "      <td>32</td>\n",
       "      <td>30.705383</td>\n",
       "    </tr>\n",
       "    <tr>\n",
       "      <th>9</th>\n",
       "      <td>74473</td>\n",
       "      <td>33</td>\n",
       "      <td>23</td>\n",
       "      <td>27.413599</td>\n",
       "    </tr>\n",
       "    <tr>\n",
       "      <th>10</th>\n",
       "      <td>74473</td>\n",
       "      <td>34</td>\n",
       "      <td>26</td>\n",
       "      <td>34.587108</td>\n",
       "    </tr>\n",
       "    <tr>\n",
       "      <th>11</th>\n",
       "      <td>74473</td>\n",
       "      <td>35</td>\n",
       "      <td>27</td>\n",
       "      <td>26.481921</td>\n",
       "    </tr>\n",
       "    <tr>\n",
       "      <th>12</th>\n",
       "      <td>74473</td>\n",
       "      <td>36</td>\n",
       "      <td>24</td>\n",
       "      <td>31.674152</td>\n",
       "    </tr>\n",
       "    <tr>\n",
       "      <th>13</th>\n",
       "      <td>74473</td>\n",
       "      <td>37</td>\n",
       "      <td>10</td>\n",
       "      <td>34.655714</td>\n",
       "    </tr>\n",
       "    <tr>\n",
       "      <th>14</th>\n",
       "      <td>74476</td>\n",
       "      <td>26</td>\n",
       "      <td>54</td>\n",
       "      <td>60.695535</td>\n",
       "    </tr>\n",
       "    <tr>\n",
       "      <th>15</th>\n",
       "      <td>74476</td>\n",
       "      <td>27</td>\n",
       "      <td>49</td>\n",
       "      <td>64.794032</td>\n",
       "    </tr>\n",
       "    <tr>\n",
       "      <th>16</th>\n",
       "      <td>74476</td>\n",
       "      <td>28</td>\n",
       "      <td>43</td>\n",
       "      <td>52.658496</td>\n",
       "    </tr>\n",
       "  </tbody>\n",
       "</table>\n",
       "</div>"
      ],
      "text/plain": [
       "    spare  week  repairs     y_pred\n",
       "2   74473    26       31  31.365737\n",
       "3   74473    27       30  29.657391\n",
       "4   74473    28       34  31.404603\n",
       "5   74473    29       43  32.090226\n",
       "6   74473    30       35  32.383071\n",
       "7   74473    31       38  28.259873\n",
       "8   74473    32       32  30.705383\n",
       "9   74473    33       23  27.413599\n",
       "10  74473    34       26  34.587108\n",
       "11  74473    35       27  26.481921\n",
       "12  74473    36       24  31.674152\n",
       "13  74473    37       10  34.655714\n",
       "14  74476    26       54  60.695535\n",
       "15  74476    27       49  64.794032\n",
       "16  74476    28       43  52.658496"
      ]
     },
     "execution_count": 70,
     "metadata": {},
     "output_type": "execute_result"
    }
   ],
   "source": [
    "all_pred[:15]"
   ]
  },
  {
   "cell_type": "code",
   "execution_count": 32,
   "metadata": {},
   "outputs": [],
   "source": [
    "all_pred.to_csv('type1.csv', index=False)"
   ]
  },
  {
   "cell_type": "markdown",
   "metadata": {},
   "source": [
    "# 1.2 Evaluating the Models"
   ]
  },
  {
   "cell_type": "code",
   "execution_count": 27,
   "metadata": {
    "scrolled": false
   },
   "outputs": [
    {
     "data": {
      "text/html": [
       "<div>\n",
       "<style scoped>\n",
       "    .dataframe tbody tr th:only-of-type {\n",
       "        vertical-align: middle;\n",
       "    }\n",
       "\n",
       "    .dataframe tbody tr th {\n",
       "        vertical-align: top;\n",
       "    }\n",
       "\n",
       "    .dataframe thead th {\n",
       "        text-align: right;\n",
       "    }\n",
       "</style>\n",
       "<table border=\"1\" class=\"dataframe\">\n",
       "  <thead>\n",
       "    <tr style=\"text-align: right;\">\n",
       "      <th></th>\n",
       "      <th>Spare Id</th>\n",
       "      <th>Mean (repairs/week)</th>\n",
       "      <th>Min (repairs/week)</th>\n",
       "      <th>Max (repairs/week)</th>\n",
       "      <th>Rmse</th>\n",
       "      <th>Penalized_Rmse</th>\n",
       "      <th>Total weeks</th>\n",
       "      <th>Under_Predict Weeks</th>\n",
       "      <th>Over_Predict Weeks</th>\n",
       "      <th>RMSLE</th>\n",
       "      <th>MAE</th>\n",
       "      <th>Explained Variance</th>\n",
       "      <th>R2 Score</th>\n",
       "    </tr>\n",
       "  </thead>\n",
       "  <tbody>\n",
       "    <tr>\n",
       "      <th>0</th>\n",
       "      <td>74473</td>\n",
       "      <td>29.312821</td>\n",
       "      <td>0</td>\n",
       "      <td>51</td>\n",
       "      <td>6.545401</td>\n",
       "      <td>19.179342</td>\n",
       "      <td>12</td>\n",
       "      <td>8</td>\n",
       "      <td>4</td>\n",
       "      <td>0.196458</td>\n",
       "      <td>2.297816</td>\n",
       "      <td>0.184934</td>\n",
       "      <td>0.019347</td>\n",
       "    </tr>\n",
       "    <tr>\n",
       "      <th>1</th>\n",
       "      <td>74476</td>\n",
       "      <td>61.010256</td>\n",
       "      <td>0</td>\n",
       "      <td>96</td>\n",
       "      <td>11.460885</td>\n",
       "      <td>22.383772</td>\n",
       "      <td>12</td>\n",
       "      <td>3</td>\n",
       "      <td>9</td>\n",
       "      <td>0.222176</td>\n",
       "      <td>3.180420</td>\n",
       "      <td>-0.076289</td>\n",
       "      <td>-0.219987</td>\n",
       "    </tr>\n",
       "    <tr>\n",
       "      <th>2</th>\n",
       "      <td>74873</td>\n",
       "      <td>31.543590</td>\n",
       "      <td>0</td>\n",
       "      <td>67</td>\n",
       "      <td>11.802507</td>\n",
       "      <td>35.065674</td>\n",
       "      <td>12</td>\n",
       "      <td>7</td>\n",
       "      <td>5</td>\n",
       "      <td>0.271473</td>\n",
       "      <td>3.141550</td>\n",
       "      <td>-0.511779</td>\n",
       "      <td>-0.839608</td>\n",
       "    </tr>\n",
       "    <tr>\n",
       "      <th>3</th>\n",
       "      <td>206121</td>\n",
       "      <td>165.471795</td>\n",
       "      <td>0</td>\n",
       "      <td>284</td>\n",
       "      <td>28.411678</td>\n",
       "      <td>86.787492</td>\n",
       "      <td>12</td>\n",
       "      <td>10</td>\n",
       "      <td>2</td>\n",
       "      <td>0.122093</td>\n",
       "      <td>4.974509</td>\n",
       "      <td>0.558231</td>\n",
       "      <td>0.237804</td>\n",
       "    </tr>\n",
       "    <tr>\n",
       "      <th>4</th>\n",
       "      <td>206145</td>\n",
       "      <td>10.753846</td>\n",
       "      <td>0</td>\n",
       "      <td>28</td>\n",
       "      <td>3.118350</td>\n",
       "      <td>7.827135</td>\n",
       "      <td>12</td>\n",
       "      <td>6</td>\n",
       "      <td>6</td>\n",
       "      <td>0.457120</td>\n",
       "      <td>1.652991</td>\n",
       "      <td>-0.378612</td>\n",
       "      <td>-0.394692</td>\n",
       "    </tr>\n",
       "  </tbody>\n",
       "</table>\n",
       "</div>"
      ],
      "text/plain": [
       "   Spare Id  Mean (repairs/week)  Min (repairs/week)  Max (repairs/week)  \\\n",
       "0     74473            29.312821                   0                  51   \n",
       "1     74476            61.010256                   0                  96   \n",
       "2     74873            31.543590                   0                  67   \n",
       "3    206121           165.471795                   0                 284   \n",
       "4    206145            10.753846                   0                  28   \n",
       "\n",
       "        Rmse  Penalized_Rmse  Total weeks  Under_Predict Weeks  \\\n",
       "0   6.545401       19.179342           12                    8   \n",
       "1  11.460885       22.383772           12                    3   \n",
       "2  11.802507       35.065674           12                    7   \n",
       "3  28.411678       86.787492           12                   10   \n",
       "4   3.118350        7.827135           12                    6   \n",
       "\n",
       "   Over_Predict Weeks     RMSLE       MAE  Explained Variance  R2 Score  \n",
       "0                   4  0.196458  2.297816            0.184934  0.019347  \n",
       "1                   9  0.222176  3.180420           -0.076289 -0.219987  \n",
       "2                   5  0.271473  3.141550           -0.511779 -0.839608  \n",
       "3                   2  0.122093  4.974509            0.558231  0.237804  \n",
       "4                   6  0.457120  1.652991           -0.378612 -0.394692  "
      ]
     },
     "execution_count": 27,
     "metadata": {},
     "output_type": "execute_result"
    }
   ],
   "source": [
    "result_df[:5]"
   ]
  },
  {
   "cell_type": "code",
   "execution_count": 68,
   "metadata": {
    "scrolled": true
   },
   "outputs": [
    {
     "data": {
      "text/plain": [
       "<matplotlib.axes._subplots.AxesSubplot at 0x1c60634fe10>"
      ]
     },
     "execution_count": 68,
     "metadata": {},
     "output_type": "execute_result"
    },
    {
     "data": {
      "image/png": "[encoded data removed]",
      "text/plain": [
       "<Figure size 1700x500 with 1 Axes>"
      ]
     },
     "metadata": {},
     "output_type": "display_data"
    }
   ],
   "source": [
    "result_df['Rmse'].plot(kind='bar', figsize=(17,5), color='blue')"
   ]
  },
  {
   "cell_type": "code",
   "execution_count": 71,
   "metadata": {},
   "outputs": [
    {
     "name": "stdout",
     "output_type": "stream",
     "text": [
      "Mean Rmse:  12.334775665938901\n",
      "Minimum Rmse:  0.022171790578346007\n",
      "Maximum Rmse:  132.6990401948596\n"
     ]
    }
   ],
   "source": [
    "print('Mean Rmse: ',result_df['Rmse'].mean())\n",
    "print('Minimum Rmse: ',result_df['Rmse'].min())\n",
    "print('Maximum Rmse: ',result_df['Rmse'].max())"
   ]
  },
  {
   "cell_type": "code",
   "execution_count": 19,
   "metadata": {
    "scrolled": false
   },
   "outputs": [
    {
     "data": {
      "text/plain": [
       "<matplotlib.axes._subplots.AxesSubplot at 0x1c602e96e10>"
      ]
     },
     "execution_count": 19,
     "metadata": {},
     "output_type": "execute_result"
    },
    {
     "data": {
      "image/png": "[encoded data removed]",
      "text/plain": [
       "<Figure size 1224x360 with 1 Axes>"
      ]
     },
     "metadata": {
      "needs_background": "light"
     },
     "output_type": "display_data"
    }
   ],
   "source": [
    "result_df['Penalized_Rmse'].plot(kind='bar', figsize=(17,5), color='blue')"
   ]
  },
  {
   "cell_type": "code",
   "execution_count": 70,
   "metadata": {},
   "outputs": [
    {
     "name": "stdout",
     "output_type": "stream",
     "text": [
      "Mean Penalized Rmse:  24.892526827513453\n",
      "Minimum Penalized Rmse:  0.022171790578346007\n",
      "Maximum Penalized Rmse:  236.0936707798064\n"
     ]
    }
   ],
   "source": [
    "print('Mean Penalized Rmse: ',result_df['Penalized_Rmse'].mean())\n",
    "print('Minimum Penalized Rmse: ',result_df['Penalized_Rmse'].min())\n",
    "print('Maximum Penalized Rmse: ',result_df['Penalized_Rmse'].max())"
   ]
  },
  {
   "cell_type": "code",
   "execution_count": 20,
   "metadata": {
    "scrolled": true
   },
   "outputs": [
    {
     "data": {
      "text/plain": [
       "<matplotlib.axes._subplots.AxesSubplot at 0x1c60319c550>"
      ]
     },
     "execution_count": 20,
     "metadata": {},
     "output_type": "execute_result"
    },
    {
     "data": {
      "image/png": "[encoded data removed]",
      "text/plain": [
       "<Figure size 1224x360 with 1 Axes>"
      ]
     },
     "metadata": {
      "needs_background": "light"
     },
     "output_type": "display_data"
    }
   ],
   "source": [
    "result_df['RMSLE'].plot(kind='bar', figsize=(17,5), color='blue')"
   ]
  },
  {
   "cell_type": "code",
   "execution_count": 72,
   "metadata": {},
   "outputs": [
    {
     "name": "stdout",
     "output_type": "stream",
     "text": [
      "Mean RMSLE:  0.42237684267902487\n",
      "Minimum RMSLE:  0.021910629646582903\n",
      "Maximum RMSLE:  3.2140194873734815\n"
     ]
    }
   ],
   "source": [
    "print('Mean RMSLE: ',result_df['RMSLE'].mean())\n",
    "print('Minimum RMSLE: ',result_df['RMSLE'].min())\n",
    "print('Maximum RMSLE: ',result_df['RMSLE'].max())"
   ]
  },
  {
   "cell_type": "code",
   "execution_count": 21,
   "metadata": {},
   "outputs": [
    {
     "data": {
      "text/plain": [
       "0.42237684267902487"
      ]
     },
     "execution_count": 21,
     "metadata": {},
     "output_type": "execute_result"
    }
   ],
   "source": [
    "# Mean RMSLE\n",
    "result_df['RMSLE'].mean()"
   ]
  },
  {
   "cell_type": "code",
   "execution_count": 22,
   "metadata": {},
   "outputs": [
    {
     "data": {
      "text/plain": [
       "0.37478120916492674"
      ]
     },
     "execution_count": 22,
     "metadata": {},
     "output_type": "execute_result"
    }
   ],
   "source": [
    "# Mean RMSLE after removing two outliers\n",
    "(result_df['RMSLE'].mean()*83 - 4.7)/81"
   ]
  },
  {
   "cell_type": "markdown",
   "metadata": {},
   "source": [
    "Mean RMSLE is 0.422, which is approximate 42.23 average percent error accross all the spares.\n",
    "\n",
    "If we remove two outliers from the plot, then it becomes 37.47%.\n",
    "\n",
    "While looking at the amount of given data, given time and the complexity of problem is pretty decent."
   ]
  },
  {
   "cell_type": "markdown",
   "metadata": {},
   "source": [
    "# 1.3 Feature Importance"
   ]
  },
  {
   "cell_type": "code",
   "execution_count": 23,
   "metadata": {},
   "outputs": [],
   "source": [
    "mean_fi = []\n",
    "fi_cols = list(set(list(df1)) - set(['spare', 'repairs']))\n",
    "for i in range(len(fi_cols)):\n",
    "    mean_fi.append(feat_imp[fi_cols[i]].mean())"
   ]
  },
  {
   "cell_type": "code",
   "execution_count": 26,
   "metadata": {},
   "outputs": [
    {
     "data": {
      "image/png": "[encoded data removed]",
      "text/plain": [
       "<Figure size 640x480 with 1 Axes>"
      ]
     },
     "metadata": {},
     "output_type": "display_data"
    }
   ],
   "source": [
    "import numpy as np\n",
    "\n",
    "plt.rcdefaults()\n",
    "fig, ax = plt.subplots()\n",
    "\n",
    "features = tuple(fi_cols)\n",
    "y_pos = np.arange(len(features))\n",
    "importance = mean_fi\n",
    "\n",
    "ax.barh(y_pos, importance, align='center', color='blue')\n",
    "ax.set_yticks(y_pos)\n",
    "ax.set_yticklabels(features)\n",
    "ax.invert_yaxis() \n",
    "ax.set_xlabel('Importance')\n",
    "ax.set_ylabel('Features')\n",
    "ax.set_title('Feature Importance')\n",
    "\n",
    "plt.show()"
   ]
  },
  {
   "cell_type": "markdown",
   "metadata": {},
   "source": [
    "It seems that the features Pressure, Week and Wind Speed have affected the results more than other parameters while intrestingly, Holidays have affected less."
   ]
  },
  {
   "cell_type": "markdown",
   "metadata": {},
   "source": [
    "# 2.1 Building One Model for All Spares"
   ]
  },
  {
   "cell_type": "markdown",
   "metadata": {},
   "source": [
    "Here, We have trained one LightGBM model and passed spare part id's as a feature to predict the total weekly repair variable alongwith various other features including weather data, holidays and 4 week lag data."
   ]
  },
  {
   "cell_type": "code",
   "execution_count": 5,
   "metadata": {},
   "outputs": [],
   "source": [
    "df2 = df_init.copy()"
   ]
  },
  {
   "cell_type": "code",
   "execution_count": 6,
   "metadata": {},
   "outputs": [],
   "source": [
    "# converting categorial variables to str type\n",
    "df2['spare'] = df2['spare'].astype('str')"
   ]
  },
  {
   "cell_type": "code",
   "execution_count": 7,
   "metadata": {},
   "outputs": [],
   "source": [
    "# encoding categorial columns\n",
    "from sklearn import preprocessing\n",
    "cat_cols = ['spare']\n",
    "for col in cat_cols:\n",
    "    lbl = preprocessing.LabelEncoder()\n",
    "    lbl.fit(list(df2[col].values.astype('str')))\n",
    "    df2[col] = lbl.transform(list(df2[col].values.astype('str')))"
   ]
  },
  {
   "cell_type": "markdown",
   "metadata": {},
   "source": [
    "Here, we have done label encoding as lightGBM have capability to handle categorial variable passed as ordinal values. Still the results may improve by doing one hot key encoding and will do it in later phase."
   ]
  },
  {
   "cell_type": "code",
   "execution_count": 8,
   "metadata": {},
   "outputs": [],
   "source": [
    "# creating test df from week 25 to week 36 of 2018 (12 weeks).\n",
    "# Not including week 37 as it is has incomplete data.\n",
    "con1 = df2['year']==2018\n",
    "con2 = df2['week']>24\n",
    "con3 = df2['week']<37\n",
    "test_df = df2[con1 & con2 & con3]"
   ]
  },
  {
   "cell_type": "code",
   "execution_count": 10,
   "metadata": {},
   "outputs": [],
   "source": [
    "# Train Data Frame consists of data from 6th week of 2015 to 24th week of 2018.\n",
    "# Initial 5 weeks of data was not used as its has null values for 4 week lag data columns.\n",
    "train_df = df2[415:15106]"
   ]
  },
  {
   "cell_type": "markdown",
   "metadata": {},
   "source": [
    "Initially we trained all the features present in the data frame, but realized that by using less features (below mentioned) model gives better results. So, here we have show the creation of model with features giving best outcomes."
   ]
  },
  {
   "cell_type": "code",
   "execution_count": 11,
   "metadata": {},
   "outputs": [],
   "source": [
    "import lightgbm as lgb\n",
    "train_x = train_df[['spare', 'week','last_week_repairs','last_week_diff','last_minus_one_week_diff',\n",
    "                    'last_minus_one_week_repairs']]\n",
    "train_y = train_df[['repairs']]\n",
    "test_x = test_df[['spare', 'week','last_week_repairs','last_week_diff','last_minus_one_week_diff',\n",
    "                  'last_minus_one_week_repairs']]\n",
    "test_y = test_df[['repairs']]"
   ]
  },
  {
   "cell_type": "code",
   "execution_count": 14,
   "metadata": {},
   "outputs": [],
   "source": [
    "# Converting dataframe to lightGBM library dataset.\n",
    "d_train = lgb.Dataset(train_x, label=train_y)\n",
    "\n",
    "# Setting basic parameters\n",
    "params = { \"objective\": \"regression\", \"metric\": \"rmse\"}\n",
    "\n",
    "# Training the model\n",
    "lgbmodel = lgb.train(params, d_train, 600)\n",
    "\n",
    "# Predicting for test df\n",
    "y_pred_lgbm=lgbmodel.predict(test_x)\n",
    "\n",
    "# Calculating Accuracy Metrics\n",
    "rmse, rmsle, mae, evs, R2_score = accuracy_matrices(test_y, y_pred_lgbm)\n",
    "\n",
    "# Calculating Penalized RMSE\n",
    "penaliz_rmse, under_predict, over_predict = penalized_rmse(test_y.squeeze().tolist(), y_pred_lgbm.squeeze().tolist())"
   ]
  },
  {
   "cell_type": "code",
   "execution_count": 9,
   "metadata": {},
   "outputs": [],
   "source": [
    "type2_df = test_df.copy()\n",
    "type2_df['y_pred'] = y_pred_lgbm\n",
    "type2_df = type2_df[['spare','week', 'repairs', 'y_pred']]"
   ]
  },
  {
   "cell_type": "code",
   "execution_count": 15,
   "metadata": {},
   "outputs": [],
   "source": [
    "type2_df['y_pred'] = y_pred_lgbm"
   ]
  },
  {
   "cell_type": "code",
   "execution_count": 18,
   "metadata": {},
   "outputs": [],
   "source": [
    "type2_df = type2_df[['spare','week', 'repairs', 'y_pred']]"
   ]
  },
  {
   "cell_type": "code",
   "execution_count": 19,
   "metadata": {},
   "outputs": [],
   "source": [
    "type2_df.to_csv('type2.csv', index=False)"
   ]
  },
  {
   "cell_type": "markdown",
   "metadata": {},
   "source": [
    "# 2.2 Evaluating the Model"
   ]
  },
  {
   "cell_type": "code",
   "execution_count": 44,
   "metadata": {},
   "outputs": [
    {
     "name": "stdout",
     "output_type": "stream",
     "text": [
      "rmse: 16.118327476378234\n",
      "rmsle: 0.4374030956549477\n",
      "mae: 2.7788076241442448\n",
      "explained_variance_score: 0.9819689188216303\n",
      "r2_score: 0.9819191476843562\n",
      "penalized_rmse:  32.49707805856358\n",
      "under_predict rows:  438\n",
      "over_predict rows:  558\n"
     ]
    }
   ],
   "source": [
    "print('rmse:', rmse)\n",
    "print('rmsle:', rmsle)\n",
    "print('mae:', mae)\n",
    "print('explained_variance_score:', evs)\n",
    "print('r2_score:', R2_score)\n",
    "print('penalized_rmse: ' , penaliz_rmse)\n",
    "print('under_predict rows: ', under_predict )\n",
    "print('over_predict rows: ', over_predict )"
   ]
  },
  {
   "cell_type": "markdown",
   "metadata": {},
   "source": [
    "# 2.3 Feature Importance"
   ]
  },
  {
   "cell_type": "code",
   "execution_count": 45,
   "metadata": {},
   "outputs": [],
   "source": [
    "feat_imp = lgbmodel.feature_importance()"
   ]
  },
  {
   "cell_type": "code",
   "execution_count": 46,
   "metadata": {},
   "outputs": [],
   "source": [
    "feat_names = lgbmodel.feature_name()"
   ]
  },
  {
   "cell_type": "code",
   "execution_count": 66,
   "metadata": {
    "scrolled": false
   },
   "outputs": [
    {
     "data": {
      "image/png": "[encoded data removed]",
      "text/plain": [
       "<Figure size 640x480 with 1 Axes>"
      ]
     },
     "metadata": {},
     "output_type": "display_data"
    }
   ],
   "source": [
    "import numpy as np\n",
    "\n",
    "plt.rcdefaults()\n",
    "fig, ax = plt.subplots()\n",
    "\n",
    "features = tuple(feat_names)\n",
    "y_pos = np.arange(len(features))\n",
    "importance = list(feat_imp)\n",
    "\n",
    "ax.barh(y_pos, importance, 0.3,align='center', color='blue')\n",
    "ax.set_yticks(y_pos)\n",
    "ax.set_yticklabels(features)\n",
    "ax.invert_yaxis()  # labels read top-to-bottom\n",
    "ax.set_xlabel('Importance')\n",
    "ax.set_ylabel('Features')\n",
    "ax.set_title('Feature Importance')\n",
    "plt.show()"
   ]
  },
  {
   "cell_type": "markdown",
   "metadata": {},
   "source": [
    "# Data Wrangling for saving prediction"
   ]
  },
  {
   "cell_type": "code",
   "execution_count": 71,
   "metadata": {
    "scrolled": true
   },
   "outputs": [
    {
     "data": {
      "text/html": [
       "<div>\n",
       "<style scoped>\n",
       "    .dataframe tbody tr th:only-of-type {\n",
       "        vertical-align: middle;\n",
       "    }\n",
       "\n",
       "    .dataframe tbody tr th {\n",
       "        vertical-align: top;\n",
       "    }\n",
       "\n",
       "    .dataframe thead th {\n",
       "        text-align: right;\n",
       "    }\n",
       "</style>\n",
       "<table border=\"1\" class=\"dataframe\">\n",
       "  <thead>\n",
       "    <tr style=\"text-align: right;\">\n",
       "      <th></th>\n",
       "      <th>spare</th>\n",
       "      <th>week</th>\n",
       "      <th>repairs</th>\n",
       "      <th>y_pred</th>\n",
       "    </tr>\n",
       "  </thead>\n",
       "  <tbody>\n",
       "    <tr>\n",
       "      <th>2</th>\n",
       "      <td>74473</td>\n",
       "      <td>26</td>\n",
       "      <td>31</td>\n",
       "      <td>31.365737</td>\n",
       "    </tr>\n",
       "    <tr>\n",
       "      <th>3</th>\n",
       "      <td>74473</td>\n",
       "      <td>27</td>\n",
       "      <td>30</td>\n",
       "      <td>29.657391</td>\n",
       "    </tr>\n",
       "    <tr>\n",
       "      <th>4</th>\n",
       "      <td>74473</td>\n",
       "      <td>28</td>\n",
       "      <td>34</td>\n",
       "      <td>31.404603</td>\n",
       "    </tr>\n",
       "    <tr>\n",
       "      <th>5</th>\n",
       "      <td>74473</td>\n",
       "      <td>29</td>\n",
       "      <td>43</td>\n",
       "      <td>32.090226</td>\n",
       "    </tr>\n",
       "    <tr>\n",
       "      <th>6</th>\n",
       "      <td>74473</td>\n",
       "      <td>30</td>\n",
       "      <td>35</td>\n",
       "      <td>32.383071</td>\n",
       "    </tr>\n",
       "  </tbody>\n",
       "</table>\n",
       "</div>"
      ],
      "text/plain": [
       "   spare  week  repairs     y_pred\n",
       "2  74473    26       31  31.365737\n",
       "3  74473    27       30  29.657391\n",
       "4  74473    28       34  31.404603\n",
       "5  74473    29       43  32.090226\n",
       "6  74473    30       35  32.383071"
      ]
     },
     "execution_count": 71,
     "metadata": {},
     "output_type": "execute_result"
    }
   ],
   "source": [
    "all_pred[:5]"
   ]
  },
  {
   "cell_type": "code",
   "execution_count": 35,
   "metadata": {},
   "outputs": [],
   "source": [
    "final = type2_df[:83]"
   ]
  },
  {
   "cell_type": "code",
   "execution_count": 38,
   "metadata": {},
   "outputs": [],
   "source": [
    "final['spare'] = all_pred['spare'].unique()"
   ]
  },
  {
   "cell_type": "code",
   "execution_count": 58,
   "metadata": {},
   "outputs": [
    {
     "data": {
      "text/html": [
       "<div>\n",
       "<style scoped>\n",
       "    .dataframe tbody tr th:only-of-type {\n",
       "        vertical-align: middle;\n",
       "    }\n",
       "\n",
       "    .dataframe tbody tr th {\n",
       "        vertical-align: top;\n",
       "    }\n",
       "\n",
       "    .dataframe thead th {\n",
       "        text-align: right;\n",
       "    }\n",
       "</style>\n",
       "<table border=\"1\" class=\"dataframe\">\n",
       "  <thead>\n",
       "    <tr style=\"text-align: right;\">\n",
       "      <th></th>\n",
       "      <th>spare</th>\n",
       "      <th>W25T</th>\n",
       "      <th>W25P</th>\n",
       "      <th>W26T</th>\n",
       "      <th>W26P</th>\n",
       "      <th>W27T</th>\n",
       "      <th>W27P</th>\n",
       "      <th>W28T</th>\n",
       "      <th>W28P</th>\n",
       "      <th>W29T</th>\n",
       "      <th>...</th>\n",
       "      <th>W32T</th>\n",
       "      <th>W32P</th>\n",
       "      <th>W33T</th>\n",
       "      <th>W33P</th>\n",
       "      <th>W34T</th>\n",
       "      <th>W34P</th>\n",
       "      <th>W35T</th>\n",
       "      <th>W35P</th>\n",
       "      <th>W36T</th>\n",
       "      <th>W36P</th>\n",
       "    </tr>\n",
       "  </thead>\n",
       "  <tbody>\n",
       "    <tr>\n",
       "      <th>15106</th>\n",
       "      <td>74473</td>\n",
       "      <td>0</td>\n",
       "      <td>0.1</td>\n",
       "      <td>0</td>\n",
       "      <td>0.1</td>\n",
       "      <td>0</td>\n",
       "      <td>0.1</td>\n",
       "      <td>0</td>\n",
       "      <td>0.1</td>\n",
       "      <td>0</td>\n",
       "      <td>...</td>\n",
       "      <td>0</td>\n",
       "      <td>0.1</td>\n",
       "      <td>0</td>\n",
       "      <td>0.1</td>\n",
       "      <td>0</td>\n",
       "      <td>0.1</td>\n",
       "      <td>0</td>\n",
       "      <td>0.1</td>\n",
       "      <td>0</td>\n",
       "      <td>0.1</td>\n",
       "    </tr>\n",
       "    <tr>\n",
       "      <th>15107</th>\n",
       "      <td>74476</td>\n",
       "      <td>0</td>\n",
       "      <td>0.1</td>\n",
       "      <td>0</td>\n",
       "      <td>0.1</td>\n",
       "      <td>0</td>\n",
       "      <td>0.1</td>\n",
       "      <td>0</td>\n",
       "      <td>0.1</td>\n",
       "      <td>0</td>\n",
       "      <td>...</td>\n",
       "      <td>0</td>\n",
       "      <td>0.1</td>\n",
       "      <td>0</td>\n",
       "      <td>0.1</td>\n",
       "      <td>0</td>\n",
       "      <td>0.1</td>\n",
       "      <td>0</td>\n",
       "      <td>0.1</td>\n",
       "      <td>0</td>\n",
       "      <td>0.1</td>\n",
       "    </tr>\n",
       "    <tr>\n",
       "      <th>15108</th>\n",
       "      <td>74873</td>\n",
       "      <td>0</td>\n",
       "      <td>0.1</td>\n",
       "      <td>0</td>\n",
       "      <td>0.1</td>\n",
       "      <td>0</td>\n",
       "      <td>0.1</td>\n",
       "      <td>0</td>\n",
       "      <td>0.1</td>\n",
       "      <td>0</td>\n",
       "      <td>...</td>\n",
       "      <td>0</td>\n",
       "      <td>0.1</td>\n",
       "      <td>0</td>\n",
       "      <td>0.1</td>\n",
       "      <td>0</td>\n",
       "      <td>0.1</td>\n",
       "      <td>0</td>\n",
       "      <td>0.1</td>\n",
       "      <td>0</td>\n",
       "      <td>0.1</td>\n",
       "    </tr>\n",
       "    <tr>\n",
       "      <th>15109</th>\n",
       "      <td>206121</td>\n",
       "      <td>0</td>\n",
       "      <td>0.1</td>\n",
       "      <td>0</td>\n",
       "      <td>0.1</td>\n",
       "      <td>0</td>\n",
       "      <td>0.1</td>\n",
       "      <td>0</td>\n",
       "      <td>0.1</td>\n",
       "      <td>0</td>\n",
       "      <td>...</td>\n",
       "      <td>0</td>\n",
       "      <td>0.1</td>\n",
       "      <td>0</td>\n",
       "      <td>0.1</td>\n",
       "      <td>0</td>\n",
       "      <td>0.1</td>\n",
       "      <td>0</td>\n",
       "      <td>0.1</td>\n",
       "      <td>0</td>\n",
       "      <td>0.1</td>\n",
       "    </tr>\n",
       "    <tr>\n",
       "      <th>15110</th>\n",
       "      <td>206145</td>\n",
       "      <td>0</td>\n",
       "      <td>0.1</td>\n",
       "      <td>0</td>\n",
       "      <td>0.1</td>\n",
       "      <td>0</td>\n",
       "      <td>0.1</td>\n",
       "      <td>0</td>\n",
       "      <td>0.1</td>\n",
       "      <td>0</td>\n",
       "      <td>...</td>\n",
       "      <td>0</td>\n",
       "      <td>0.1</td>\n",
       "      <td>0</td>\n",
       "      <td>0.1</td>\n",
       "      <td>0</td>\n",
       "      <td>0.1</td>\n",
       "      <td>0</td>\n",
       "      <td>0.1</td>\n",
       "      <td>0</td>\n",
       "      <td>0.1</td>\n",
       "    </tr>\n",
       "  </tbody>\n",
       "</table>\n",
       "<p>5 rows × 25 columns</p>\n",
       "</div>"
      ],
      "text/plain": [
       "        spare  W25T  W25P  W26T  W26P  W27T  W27P  W28T  W28P  W29T  ...   \\\n",
       "15106   74473     0   0.1     0   0.1     0   0.1     0   0.1     0  ...    \n",
       "15107   74476     0   0.1     0   0.1     0   0.1     0   0.1     0  ...    \n",
       "15108   74873     0   0.1     0   0.1     0   0.1     0   0.1     0  ...    \n",
       "15109  206121     0   0.1     0   0.1     0   0.1     0   0.1     0  ...    \n",
       "15110  206145     0   0.1     0   0.1     0   0.1     0   0.1     0  ...    \n",
       "\n",
       "       W32T  W32P  W33T  W33P  W34T  W34P  W35T  W35P  W36T  W36P  \n",
       "15106     0   0.1     0   0.1     0   0.1     0   0.1     0   0.1  \n",
       "15107     0   0.1     0   0.1     0   0.1     0   0.1     0   0.1  \n",
       "15108     0   0.1     0   0.1     0   0.1     0   0.1     0   0.1  \n",
       "15109     0   0.1     0   0.1     0   0.1     0   0.1     0   0.1  \n",
       "15110     0   0.1     0   0.1     0   0.1     0   0.1     0   0.1  \n",
       "\n",
       "[5 rows x 25 columns]"
      ]
     },
     "execution_count": 58,
     "metadata": {},
     "output_type": "execute_result"
    }
   ],
   "source": [
    "for i in range(25,37):\n",
    "    col_name1 = 'W' + str(i) + 'T'\n",
    "    final[col_name1] = 0\n",
    "    col_name2 = 'W' + str(i) + 'P'\n",
    "    final[col_name2] = 0.1\n",
    "final[:5]"
   ]
  },
  {
   "cell_type": "code",
   "execution_count": 72,
   "metadata": {},
   "outputs": [],
   "source": [
    "abc = pd.read_csv('final_results.csv')"
   ]
  },
  {
   "cell_type": "code",
   "execution_count": 75,
   "metadata": {},
   "outputs": [
    {
     "name": "stdout",
     "output_type": "stream",
     "text": [
      "<class 'pandas.core.frame.DataFrame'>\n",
      "RangeIndex: 83 entries, 0 to 82\n",
      "Data columns (total 27 columns):\n",
      "spare    83 non-null int64\n",
      "W25T     83 non-null int64\n",
      "W25P     83 non-null float64\n",
      "W26T     83 non-null int64\n",
      "W26P     83 non-null float64\n",
      "W27T     83 non-null int64\n",
      "W27P     83 non-null float64\n",
      "W28T     83 non-null int64\n",
      "W28P     83 non-null float64\n",
      "W29T     83 non-null int64\n",
      "W29P     83 non-null float64\n",
      "W30T     83 non-null int64\n",
      "W30P     83 non-null float64\n",
      "W31T     83 non-null int64\n",
      "W31P     83 non-null float64\n",
      "W32T     83 non-null int64\n",
      "W32P     83 non-null float64\n",
      "W33T     83 non-null int64\n",
      "W33P     83 non-null float64\n",
      "W34T     83 non-null int64\n",
      "W34P     83 non-null float64\n",
      "W35T     83 non-null int64\n",
      "W35P     83 non-null float64\n",
      "W36T     83 non-null int64\n",
      "W36P     83 non-null float64\n",
      "W37P     83 non-null float64\n",
      "W37T     83 non-null int64\n",
      "dtypes: float64(13), int64(14)\n",
      "memory usage: 17.6 KB\n"
     ]
    }
   ],
   "source": [
    "abc.info()"
   ]
  },
  {
   "cell_type": "code",
   "execution_count": 74,
   "metadata": {},
   "outputs": [],
   "source": [
    "abc['W37P'] = 0.1\n",
    "abc['W37T'] = 0"
   ]
  },
  {
   "cell_type": "code",
   "execution_count": null,
   "metadata": {},
   "outputs": [],
   "source": []
  },
  {
   "cell_type": "code",
   "execution_count": 76,
   "metadata": {},
   "outputs": [],
   "source": [
    "\n",
    "for index, row in all_pred.iterrows():\n",
    "    spare = row['spare']\n",
    "    week = row['week']\n",
    "    y_pred = row['y_pred']\n",
    "    repairs = row['repairs']\n",
    "    col_p = 'W' + str(int(week)) + 'P'\n",
    "    col_t = 'W' + str(int(week)) + 'T'\n",
    "    abc[col_p][abc[abc['spare']==spare].index[0]] = y_pred\n",
    "    abc[col_t][abc[abc['spare']==spare].index[0]] = repairs"
   ]
  },
  {
   "cell_type": "code",
   "execution_count": 79,
   "metadata": {},
   "outputs": [
    {
     "data": {
      "text/html": [
       "<div>\n",
       "<style scoped>\n",
       "    .dataframe tbody tr th:only-of-type {\n",
       "        vertical-align: middle;\n",
       "    }\n",
       "\n",
       "    .dataframe tbody tr th {\n",
       "        vertical-align: top;\n",
       "    }\n",
       "\n",
       "    .dataframe thead th {\n",
       "        text-align: right;\n",
       "    }\n",
       "</style>\n",
       "<table border=\"1\" class=\"dataframe\">\n",
       "  <thead>\n",
       "    <tr style=\"text-align: right;\">\n",
       "      <th></th>\n",
       "      <th>spare</th>\n",
       "      <th>W26T</th>\n",
       "      <th>W26P</th>\n",
       "      <th>W27T</th>\n",
       "      <th>W27P</th>\n",
       "      <th>W28T</th>\n",
       "      <th>W28P</th>\n",
       "      <th>W29T</th>\n",
       "      <th>W29P</th>\n",
       "      <th>W30T</th>\n",
       "      <th>...</th>\n",
       "      <th>W33T</th>\n",
       "      <th>W33P</th>\n",
       "      <th>W34T</th>\n",
       "      <th>W34P</th>\n",
       "      <th>W35T</th>\n",
       "      <th>W35P</th>\n",
       "      <th>W36T</th>\n",
       "      <th>W36P</th>\n",
       "      <th>W37P</th>\n",
       "      <th>W37T</th>\n",
       "    </tr>\n",
       "  </thead>\n",
       "  <tbody>\n",
       "    <tr>\n",
       "      <th>0</th>\n",
       "      <td>74473</td>\n",
       "      <td>31</td>\n",
       "      <td>31.365737</td>\n",
       "      <td>30</td>\n",
       "      <td>29.657391</td>\n",
       "      <td>34</td>\n",
       "      <td>31.404603</td>\n",
       "      <td>43</td>\n",
       "      <td>32.090226</td>\n",
       "      <td>35</td>\n",
       "      <td>...</td>\n",
       "      <td>23</td>\n",
       "      <td>27.413599</td>\n",
       "      <td>26</td>\n",
       "      <td>34.587108</td>\n",
       "      <td>27</td>\n",
       "      <td>26.481921</td>\n",
       "      <td>24</td>\n",
       "      <td>31.674152</td>\n",
       "      <td>34.655714</td>\n",
       "      <td>10</td>\n",
       "    </tr>\n",
       "    <tr>\n",
       "      <th>1</th>\n",
       "      <td>74476</td>\n",
       "      <td>54</td>\n",
       "      <td>60.695535</td>\n",
       "      <td>49</td>\n",
       "      <td>64.794032</td>\n",
       "      <td>43</td>\n",
       "      <td>52.658496</td>\n",
       "      <td>69</td>\n",
       "      <td>54.192319</td>\n",
       "      <td>59</td>\n",
       "      <td>...</td>\n",
       "      <td>33</td>\n",
       "      <td>55.136261</td>\n",
       "      <td>44</td>\n",
       "      <td>47.878906</td>\n",
       "      <td>45</td>\n",
       "      <td>58.991905</td>\n",
       "      <td>47</td>\n",
       "      <td>59.410214</td>\n",
       "      <td>54.269204</td>\n",
       "      <td>22</td>\n",
       "    </tr>\n",
       "    <tr>\n",
       "      <th>2</th>\n",
       "      <td>74873</td>\n",
       "      <td>44</td>\n",
       "      <td>29.222366</td>\n",
       "      <td>34</td>\n",
       "      <td>36.149256</td>\n",
       "      <td>44</td>\n",
       "      <td>32.455650</td>\n",
       "      <td>57</td>\n",
       "      <td>30.928627</td>\n",
       "      <td>45</td>\n",
       "      <td>...</td>\n",
       "      <td>41</td>\n",
       "      <td>42.120128</td>\n",
       "      <td>46</td>\n",
       "      <td>36.101866</td>\n",
       "      <td>57</td>\n",
       "      <td>34.143404</td>\n",
       "      <td>36</td>\n",
       "      <td>40.809967</td>\n",
       "      <td>36.468339</td>\n",
       "      <td>10</td>\n",
       "    </tr>\n",
       "    <tr>\n",
       "      <th>3</th>\n",
       "      <td>206121</td>\n",
       "      <td>239</td>\n",
       "      <td>234.480056</td>\n",
       "      <td>258</td>\n",
       "      <td>227.567927</td>\n",
       "      <td>254</td>\n",
       "      <td>225.926707</td>\n",
       "      <td>256</td>\n",
       "      <td>236.982809</td>\n",
       "      <td>270</td>\n",
       "      <td>...</td>\n",
       "      <td>168</td>\n",
       "      <td>195.319047</td>\n",
       "      <td>180</td>\n",
       "      <td>192.904117</td>\n",
       "      <td>246</td>\n",
       "      <td>199.949850</td>\n",
       "      <td>259</td>\n",
       "      <td>239.368136</td>\n",
       "      <td>233.931483</td>\n",
       "      <td>84</td>\n",
       "    </tr>\n",
       "    <tr>\n",
       "      <th>4</th>\n",
       "      <td>206145</td>\n",
       "      <td>5</td>\n",
       "      <td>7.933852</td>\n",
       "      <td>6</td>\n",
       "      <td>2.519126</td>\n",
       "      <td>11</td>\n",
       "      <td>9.682175</td>\n",
       "      <td>10</td>\n",
       "      <td>6.528351</td>\n",
       "      <td>10</td>\n",
       "      <td>...</td>\n",
       "      <td>3</td>\n",
       "      <td>4.684408</td>\n",
       "      <td>9</td>\n",
       "      <td>2.394573</td>\n",
       "      <td>3</td>\n",
       "      <td>6.138959</td>\n",
       "      <td>8</td>\n",
       "      <td>5.583859</td>\n",
       "      <td>4.919092</td>\n",
       "      <td>5</td>\n",
       "    </tr>\n",
       "  </tbody>\n",
       "</table>\n",
       "<p>5 rows × 25 columns</p>\n",
       "</div>"
      ],
      "text/plain": [
       "    spare  W26T        W26P  W27T        W27P  W28T        W28P  W29T  \\\n",
       "0   74473    31   31.365737    30   29.657391    34   31.404603    43   \n",
       "1   74476    54   60.695535    49   64.794032    43   52.658496    69   \n",
       "2   74873    44   29.222366    34   36.149256    44   32.455650    57   \n",
       "3  206121   239  234.480056   258  227.567927   254  225.926707   256   \n",
       "4  206145     5    7.933852     6    2.519126    11    9.682175    10   \n",
       "\n",
       "         W29P  W30T  ...   W33T        W33P  W34T        W34P  W35T  \\\n",
       "0   32.090226    35  ...     23   27.413599    26   34.587108    27   \n",
       "1   54.192319    59  ...     33   55.136261    44   47.878906    45   \n",
       "2   30.928627    45  ...     41   42.120128    46   36.101866    57   \n",
       "3  236.982809   270  ...    168  195.319047   180  192.904117   246   \n",
       "4    6.528351    10  ...      3    4.684408     9    2.394573     3   \n",
       "\n",
       "         W35P  W36T        W36P        W37P  W37T  \n",
       "0   26.481921    24   31.674152   34.655714    10  \n",
       "1   58.991905    47   59.410214   54.269204    22  \n",
       "2   34.143404    36   40.809967   36.468339    10  \n",
       "3  199.949850   259  239.368136  233.931483    84  \n",
       "4    6.138959     8    5.583859    4.919092     5  \n",
       "\n",
       "[5 rows x 25 columns]"
      ]
     },
     "execution_count": 79,
     "metadata": {},
     "output_type": "execute_result"
    }
   ],
   "source": [
    "abc[:5]"
   ]
  },
  {
   "cell_type": "code",
   "execution_count": 78,
   "metadata": {},
   "outputs": [],
   "source": [
    "del abc['W25T']\n",
    "del abc['W25P']"
   ]
  },
  {
   "cell_type": "code",
   "execution_count": null,
   "metadata": {},
   "outputs": [],
   "source": []
  },
  {
   "cell_type": "code",
   "execution_count": 80,
   "metadata": {},
   "outputs": [],
   "source": [
    "abc.to_csv('final_results2.csv', index=False)"
   ]
  },
  {
   "cell_type": "code",
   "execution_count": 62,
   "metadata": {},
   "outputs": [],
   "source": [
    "predicted_df = pd.read_csv('lightGBM_predicted.csv')"
   ]
  },
  {
   "cell_type": "code",
   "execution_count": 63,
   "metadata": {},
   "outputs": [
    {
     "name": "stdout",
     "output_type": "stream",
     "text": [
      "<class 'pandas.core.frame.DataFrame'>\n",
      "RangeIndex: 83 entries, 0 to 82\n",
      "Data columns (total 14 columns):\n",
      "spare    83 non-null int64\n",
      "W25P     83 non-null float64\n",
      "W26P     83 non-null float64\n",
      "W27P     83 non-null float64\n",
      "W28P     83 non-null float64\n",
      "W29P     83 non-null float64\n",
      "W30P     83 non-null float64\n",
      "W31P     83 non-null float64\n",
      "W32P     83 non-null float64\n",
      "W33P     83 non-null float64\n",
      "W34P     83 non-null float64\n",
      "W35P     83 non-null float64\n",
      "W36P     83 non-null float64\n",
      "W37P     0 non-null float64\n",
      "dtypes: float64(13), int64(1)\n",
      "memory usage: 9.2 KB\n"
     ]
    }
   ],
   "source": [
    "predicted_df.info()"
   ]
  },
  {
   "cell_type": "code",
   "execution_count": null,
   "metadata": {},
   "outputs": [],
   "source": []
  }
 ],
 "metadata": {
  "kernelspec": {
   "display_name": "Python 3",
   "language": "python",
   "name": "python3"
  },
  "language_info": {
   "codemirror_mode": {
    "name": "ipython",
    "version": 3
   },
   "file_extension": ".py",
   "mimetype": "text/x-python",
   "name": "python",
   "nbconvert_exporter": "python",
   "pygments_lexer": "ipython3",
   "version": "3.7.0"
  }
 },
 "nbformat": 4,
 "nbformat_minor": 2
}
